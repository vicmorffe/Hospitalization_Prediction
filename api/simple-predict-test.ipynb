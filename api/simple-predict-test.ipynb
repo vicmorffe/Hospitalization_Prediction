{
 "cells": [
  {
   "cell_type": "markdown",
   "metadata": {},
   "source": [
    "# Test a simple request of a single patient to the API"
   ]
  },
  {
   "cell_type": "code",
   "execution_count": 5,
   "metadata": {},
   "outputs": [],
   "source": [
    "import requests\n",
    "import json"
   ]
  },
  {
   "cell_type": "code",
   "execution_count": 8,
   "metadata": {},
   "outputs": [
    {
     "name": "stdout",
     "output_type": "stream",
     "text": [
      "{'pahip50e': 1.0, 'padadage': '', 'pamomage': 80.0, 'pahibpe': 1.0, 'parespe': 0.0, 'pacholst': 0.0, 'pagrossaa': 0.0, 'paosleep': '', 'pafallinj': 0.0, 'pacancre': 0.0, 'paswell': 1.0, 'parafaany': '', 'pawheeze': 0.0, 'paagey': 55.0, 'paarthre': 0.0, 'padiabe': 0.0, 'parjudg': '', 'paweight': 54.0, 'paclims': 0.0, 'pastroke': 0.0, 'pasmokev': 0.0, 'pahearaid': 0.0, 'pameds': 0.0, 'paheight': '', 'paglasses': 0.0, 'paeat': '', 'papaina': '', 'pagender': 2.0, 'padrinkb': 0.0}\n"
     ]
    }
   ],
   "source": [
    "url = \"http://127.0.0.1:9696/predict\"\n",
    "input_file = \"rfc-single_patient.json\"\n",
    "with open(input_file, \"rb\") as f_in:\n",
    "    patient = json.load(f_in)\n",
    "print(patient)"
   ]
  },
  {
   "cell_type": "code",
   "execution_count": 10,
   "metadata": {},
   "outputs": [
    {
     "data": {
      "text/plain": [
       "{'hospitalization': True, 'hospitalization_probability': 0.68}"
      ]
     },
     "execution_count": 10,
     "metadata": {},
     "output_type": "execute_result"
    }
   ],
   "source": [
    "response = requests.post(url, json=patient).json()\n",
    "response"
   ]
  },
  {
   "cell_type": "code",
   "execution_count": null,
   "metadata": {},
   "outputs": [],
   "source": []
  }
 ],
 "metadata": {
  "kernelspec": {
   "display_name": "zoomcamp",
   "language": "python",
   "name": "python3"
  },
  "language_info": {
   "codemirror_mode": {
    "name": "ipython",
    "version": 3
   },
   "file_extension": ".py",
   "mimetype": "text/x-python",
   "name": "python",
   "nbconvert_exporter": "python",
   "pygments_lexer": "ipython3",
   "version": "3.10.13"
  }
 },
 "nbformat": 4,
 "nbformat_minor": 2
}
